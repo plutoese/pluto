{
 "cells": [
  {
   "cell_type": "markdown",
   "metadata": {},
   "source": [
    "## 常用计量经济学方法 —— Python实现"
   ]
  },
  {
   "cell_type": "markdown",
   "metadata": {
    "toc-hr-collapsed": false
   },
   "source": [
    "## 线性回归模型的OLS估计"
   ]
  },
  {
   "cell_type": "markdown",
   "metadata": {},
   "source": [
    "### statsmodels文档中的示例程序"
   ]
  },
  {
   "cell_type": "markdown",
   "metadata": {},
   "source": [
    "我们可以先来看[statsmodels文档中的示例程序](http://www.statsmodels.org/stable/gettingstarted.html)。首先导入相关的模块与函数。\n",
    "\n",
    ">**主要相关模块说明**\n",
    "\n",
    "> **[Statsmodels](http://www.statsmodels.org/)** 是一个Python的第三方模块，他封装了许多计量模型，方便学者直接调用。我们主要应用这个模块进行计量分析。\n",
    "\n",
    "> **[pasty](https://patsy.readthedocs.io/en/latest/)** is a Python library for describing statistical models (especially linear models, or models that have a linear component) and building design matrices. Patsy brings the convenience of [R](http://www.r-project.org/) \"formulas\" to Python."
   ]
  },
  {
   "cell_type": "code",
   "execution_count": 1,
   "metadata": {
    "tags": []
   },
   "outputs": [],
   "source": [
    "import os\n",
    "import patsy\n",
    "import numpy as np\n",
    "import pandas as pd\n",
    "import statsmodels.api as sm\n",
    "import statsmodels.formula.api as smf"
   ]
  },
  {
   "cell_type": "markdown",
   "metadata": {},
   "source": [
    "然后载入和清洗数据。"
   ]
  },
  {
   "cell_type": "code",
   "execution_count": 2,
   "metadata": {
    "collapsed": true,
    "jupyter": {
     "outputs_hidden": true
    }
   },
   "outputs": [
    {
     "data": {
      "text/html": [
       "<div>\n",
       "<style scoped>\n",
       "    .dataframe tbody tr th:only-of-type {\n",
       "        vertical-align: middle;\n",
       "    }\n",
       "\n",
       "    .dataframe tbody tr th {\n",
       "        vertical-align: top;\n",
       "    }\n",
       "\n",
       "    .dataframe thead th {\n",
       "        text-align: right;\n",
       "    }\n",
       "</style>\n",
       "<table border=\"1\" class=\"dataframe\">\n",
       "  <thead>\n",
       "    <tr style=\"text-align: right;\">\n",
       "      <th></th>\n",
       "      <th>Department</th>\n",
       "      <th>Lottery</th>\n",
       "      <th>Literacy</th>\n",
       "      <th>Wealth</th>\n",
       "      <th>Region</th>\n",
       "    </tr>\n",
       "  </thead>\n",
       "  <tbody>\n",
       "    <tr>\n",
       "      <th>80</th>\n",
       "      <td>Vendee</td>\n",
       "      <td>68</td>\n",
       "      <td>28</td>\n",
       "      <td>56</td>\n",
       "      <td>W</td>\n",
       "    </tr>\n",
       "    <tr>\n",
       "      <th>81</th>\n",
       "      <td>Vienne</td>\n",
       "      <td>40</td>\n",
       "      <td>25</td>\n",
       "      <td>68</td>\n",
       "      <td>W</td>\n",
       "    </tr>\n",
       "    <tr>\n",
       "      <th>82</th>\n",
       "      <td>Haute-Vienne</td>\n",
       "      <td>55</td>\n",
       "      <td>13</td>\n",
       "      <td>67</td>\n",
       "      <td>C</td>\n",
       "    </tr>\n",
       "    <tr>\n",
       "      <th>83</th>\n",
       "      <td>Vosges</td>\n",
       "      <td>14</td>\n",
       "      <td>62</td>\n",
       "      <td>82</td>\n",
       "      <td>E</td>\n",
       "    </tr>\n",
       "    <tr>\n",
       "      <th>84</th>\n",
       "      <td>Yonne</td>\n",
       "      <td>51</td>\n",
       "      <td>47</td>\n",
       "      <td>30</td>\n",
       "      <td>C</td>\n",
       "    </tr>\n",
       "  </tbody>\n",
       "</table>\n",
       "</div>"
      ],
      "text/plain": [
       "      Department  Lottery  Literacy  Wealth Region\n",
       "80        Vendee       68        28      56      W\n",
       "81        Vienne       40        25      68      W\n",
       "82  Haute-Vienne       55        13      67      C\n",
       "83        Vosges       14        62      82      E\n",
       "84         Yonne       51        47      30      C"
      ]
     },
     "execution_count": 2,
     "metadata": {},
     "output_type": "execute_result"
    }
   ],
   "source": [
    "df = pd.read_csv(\"https://p193.p3.n0.cdn.getcloudapp.com/items/qGuoNwBg/Guerry.csv\")    # 载入csv格式的数据文件\n",
    "vars = ['Department', 'Lottery', 'Literacy', 'Wealth', 'Region']    # 选择感兴趣的变量\n",
    "df = df[vars]    # 选择相关数据列\n",
    "df = df.dropna()    # 剔除缺失值\n",
    "df[-5:]"
   ]
  },
  {
   "cell_type": "markdown",
   "metadata": {},
   "source": [
    "这时候**df**变量实际上就是我们回归所用的数据集。我们知道由于OLS估计量的公式是\n",
    "\n",
    "$$\\hat{\\beta}=\\left(X^{\\prime} X\\right)^{-1} X^{\\prime} y$$\n",
    "\n",
    "所以，可以用**patsy**模块中的**dmatrices**函数或者其中的$X$和$y$。\n",
    "\n",
    "> 函数dmatrices的作用\n",
    ">\n",
    "> - 它会把类别变量分解成一系列的虚拟变量\n",
    "> - 它会在$X$矩阵中添加常数列\n",
    "> - 它会返回pandas的DataFrames对象"
   ]
  },
  {
   "cell_type": "code",
   "execution_count": 3,
   "metadata": {
    "collapsed": true,
    "jupyter": {
     "outputs_hidden": true
    }
   },
   "outputs": [
    {
     "name": "stdout",
     "output_type": "stream",
     "text": [
      "   Lottery\n",
      "0     41.0\n",
      "1     38.0\n",
      "2     66.0\n",
      "   Intercept  Region[T.E]  Region[T.N]  Region[T.S]  Region[T.W]  Literacy  \\\n",
      "0        1.0          1.0          0.0          0.0          0.0      37.0   \n",
      "1        1.0          0.0          1.0          0.0          0.0      51.0   \n",
      "2        1.0          0.0          0.0          0.0          0.0      13.0   \n",
      "\n",
      "   Wealth  \n",
      "0    73.0  \n",
      "1    22.0  \n",
      "2    61.0  \n"
     ]
    }
   ],
   "source": [
    "y, X = patsy.dmatrices('Lottery ~ Literacy + Wealth + Region', data=df, return_type='dataframe')\n",
    "print(y[:3])\n",
    "print(X[:3])"
   ]
  },
  {
   "cell_type": "code",
   "execution_count": 4,
   "metadata": {
    "collapsed": true,
    "jupyter": {
     "outputs_hidden": true
    }
   },
   "outputs": [
    {
     "name": "stdout",
     "output_type": "stream",
     "text": [
      "                            OLS Regression Results                            \n",
      "==============================================================================\n",
      "Dep. Variable:                Lottery   R-squared:                       0.338\n",
      "Model:                            OLS   Adj. R-squared:                  0.287\n",
      "Method:                 Least Squares   F-statistic:                     6.636\n",
      "Date:                Wed, 11 Mar 2020   Prob (F-statistic):           1.07e-05\n",
      "Time:                        14:54:59   Log-Likelihood:                -375.30\n",
      "No. Observations:                  85   AIC:                             764.6\n",
      "Df Residuals:                      78   BIC:                             781.7\n",
      "Df Model:                           6                                         \n",
      "Covariance Type:            nonrobust                                         \n",
      "===============================================================================\n",
      "                  coef    std err          t      P>|t|      [0.025      0.975]\n",
      "-------------------------------------------------------------------------------\n",
      "Intercept      38.6517      9.456      4.087      0.000      19.826      57.478\n",
      "Region[T.E]   -15.4278      9.727     -1.586      0.117     -34.793       3.938\n",
      "Region[T.N]   -10.0170      9.260     -1.082      0.283     -28.453       8.419\n",
      "Region[T.S]    -4.5483      7.279     -0.625      0.534     -19.039       9.943\n",
      "Region[T.W]   -10.0913      7.196     -1.402      0.165     -24.418       4.235\n",
      "Literacy       -0.1858      0.210     -0.886      0.378      -0.603       0.232\n",
      "Wealth          0.4515      0.103      4.390      0.000       0.247       0.656\n",
      "==============================================================================\n",
      "Omnibus:                        3.049   Durbin-Watson:                   1.785\n",
      "Prob(Omnibus):                  0.218   Jarque-Bera (JB):                2.694\n",
      "Skew:                          -0.340   Prob(JB):                        0.260\n",
      "Kurtosis:                       2.454   Cond. No.                         371.\n",
      "==============================================================================\n",
      "\n",
      "Warnings:\n",
      "[1] Standard Errors assume that the covariance matrix of the errors is correctly specified.\n"
     ]
    }
   ],
   "source": [
    "mod = sm.OLS(y, X)    # Describe model\n",
    "res = mod.fit()       # Fit model\n",
    "print(res.summary()) "
   ]
  },
  {
   "cell_type": "markdown",
   "metadata": {},
   "source": [
    "### 伍德里奇书中的例子3.1"
   ]
  },
  {
   "cell_type": "code",
   "execution_count": 5,
   "metadata": {
    "collapsed": true,
    "jupyter": {
     "outputs_hidden": true
    }
   },
   "outputs": [],
   "source": [
    "df = pd.read_stata(\"https://p193.p3.n0.cdn.getcloudapp.com/items/YEuAolLR/GPA1.DTA\")    # 载入数据"
   ]
  },
  {
   "cell_type": "code",
   "execution_count": 6,
   "metadata": {
    "collapsed": true,
    "jupyter": {
     "outputs_hidden": true
    }
   },
   "outputs": [
    {
     "name": "stdout",
     "output_type": "stream",
     "text": [
      "                            OLS Regression Results                            \n",
      "==============================================================================\n",
      "Dep. Variable:                 colGPA   R-squared:                       0.176\n",
      "Model:                            OLS   Adj. R-squared:                  0.164\n",
      "Method:                 Least Squares   F-statistic:                     14.78\n",
      "Date:                Wed, 11 Mar 2020   Prob (F-statistic):           1.53e-06\n",
      "Time:                        14:54:59   Log-Likelihood:                -46.573\n",
      "No. Observations:                 141   AIC:                             99.15\n",
      "Df Residuals:                     138   BIC:                             108.0\n",
      "Df Model:                           2                                         \n",
      "Covariance Type:            nonrobust                                         \n",
      "==============================================================================\n",
      "                 coef    std err          t      P>|t|      [0.025      0.975]\n",
      "------------------------------------------------------------------------------\n",
      "Intercept      1.2863      0.341      3.774      0.000       0.612       1.960\n",
      "hsGPA          0.4535      0.096      4.733      0.000       0.264       0.643\n",
      "ACT            0.0094      0.011      0.875      0.383      -0.012       0.031\n",
      "==============================================================================\n",
      "Omnibus:                        3.056   Durbin-Watson:                   1.885\n",
      "Prob(Omnibus):                  0.217   Jarque-Bera (JB):                2.469\n",
      "Skew:                           0.199   Prob(JB):                        0.291\n",
      "Kurtosis:                       2.488   Cond. No.                         298.\n",
      "==============================================================================\n",
      "\n",
      "Warnings:\n",
      "[1] Standard Errors assume that the covariance matrix of the errors is correctly specified.\n"
     ]
    }
   ],
   "source": [
    "results = smf.ols('colGPA ~ hsGPA + ACT', data=df).fit()\n",
    "print(results.summary())"
   ]
  },
  {
   "cell_type": "markdown",
   "metadata": {},
   "source": [
    "### 计量经济学导论案例的Python实现"
   ]
  },
  {
   "cell_type": "markdown",
   "metadata": {},
   "source": [
    "#### 案例2.3 首席执行官的薪水和股本回报率"
   ]
  },
  {
   "cell_type": "code",
   "execution_count": 7,
   "metadata": {
    "collapsed": true,
    "jupyter": {
     "outputs_hidden": true
    }
   },
   "outputs": [
    {
     "name": "stdout",
     "output_type": "stream",
     "text": [
      "                            OLS Regression Results                            \n",
      "==============================================================================\n",
      "Dep. Variable:                 salary   R-squared:                       0.013\n",
      "Model:                            OLS   Adj. R-squared:                  0.008\n",
      "Method:                 Least Squares   F-statistic:                     2.767\n",
      "Date:                Wed, 11 Mar 2020   Prob (F-statistic):             0.0978\n",
      "Time:                        14:55:09   Log-Likelihood:                -1804.5\n",
      "No. Observations:                 209   AIC:                             3613.\n",
      "Df Residuals:                     207   BIC:                             3620.\n",
      "Df Model:                           1                                         \n",
      "Covariance Type:            nonrobust                                         \n",
      "==============================================================================\n",
      "                 coef    std err          t      P>|t|      [0.025      0.975]\n",
      "------------------------------------------------------------------------------\n",
      "Intercept    963.1913    213.240      4.517      0.000     542.790    1383.592\n",
      "roe           18.5012     11.123      1.663      0.098      -3.428      40.431\n",
      "==============================================================================\n",
      "Omnibus:                      311.096   Durbin-Watson:                   2.105\n",
      "Prob(Omnibus):                  0.000   Jarque-Bera (JB):            31120.902\n",
      "Skew:                           6.915   Prob(JB):                         0.00\n",
      "Kurtosis:                      61.158   Cond. No.                         43.3\n",
      "==============================================================================\n",
      "\n",
      "Warnings:\n",
      "[1] Standard Errors assume that the covariance matrix of the errors is correctly specified.\n"
     ]
    }
   ],
   "source": [
    "df = pd.read_stata(\"https://p193.p3.n0.cdn.getcloudapp.com/items/nOuNkn77/CEOSAL1.DTA\")    # 载入数据\n",
    "results = smf.ols('salary ~ roe', data=df).fit()\n",
    "print(results.summary())"
   ]
  },
  {
   "cell_type": "code",
   "execution_count": 8,
   "metadata": {
    "collapsed": true,
    "jupyter": {
     "outputs_hidden": true
    }
   },
   "outputs": [
    {
     "name": "stdout",
     "output_type": "stream",
     "text": [
      "963.191336472558\n",
      "1518.226926829006\n"
     ]
    }
   ],
   "source": [
    "# Salary for ROE = 0\n",
    "print(results.params['Intercept'] + results.params['roe'] * 0)\n",
    "\n",
    "# Salary for ROE = 30\n",
    "print(results.params['Intercept'] + results.params['roe'] * 30)"
   ]
  },
  {
   "cell_type": "markdown",
   "metadata": {},
   "source": [
    "#### 案例2.6 CEO的薪水和股本回报率"
   ]
  },
  {
   "cell_type": "code",
   "execution_count": 2,
   "metadata": {},
   "outputs": [
    {
     "name": "stdout",
     "output_type": "stream",
     "text": [
      "                            OLS Regression Results                            \n",
      "==============================================================================\n",
      "Dep. Variable:                 salary   R-squared:                       0.013\n",
      "Model:                            OLS   Adj. R-squared:                  0.008\n",
      "Method:                 Least Squares   F-statistic:                     2.767\n",
      "Date:                Thu, 27 May 2021   Prob (F-statistic):             0.0978\n",
      "Time:                        21:15:29   Log-Likelihood:                -1804.5\n",
      "No. Observations:                 209   AIC:                             3613.\n",
      "Df Residuals:                     207   BIC:                             3620.\n",
      "Df Model:                           1                                         \n",
      "Covariance Type:            nonrobust                                         \n",
      "==============================================================================\n",
      "                 coef    std err          t      P>|t|      [0.025      0.975]\n",
      "------------------------------------------------------------------------------\n",
      "Intercept    963.1913    213.240      4.517      0.000     542.790    1383.592\n",
      "roe           18.5012     11.123      1.663      0.098      -3.428      40.431\n",
      "==============================================================================\n",
      "Omnibus:                      311.096   Durbin-Watson:                   2.105\n",
      "Prob(Omnibus):                  0.000   Jarque-Bera (JB):            31120.902\n",
      "Skew:                           6.915   Prob(JB):                         0.00\n",
      "Kurtosis:                      61.158   Cond. No.                         43.3\n",
      "==============================================================================\n",
      "\n",
      "Notes:\n",
      "[1] Standard Errors assume that the covariance matrix of the errors is correctly specified.\n"
     ]
    }
   ],
   "source": [
    "df = pd.read_stata(\"https://p193.p3.n0.cdn.getcloudapp.com/items/nOuNkn77/CEOSAL1.DTA\")    # 载入数据\n",
    "results = smf.ols('salary ~ roe', data=df).fit()\n",
    "print(results.summary())"
   ]
  },
  {
   "cell_type": "code",
   "execution_count": 10,
   "metadata": {},
   "outputs": [
    {
     "name": "stdout",
     "output_type": "stream",
     "text": [
      "          roe  salary       salhat        uhat\n",
      "0   14.100000    1095  1224.058071 -129.058071\n",
      "1   10.900000    1001  1164.854261 -163.854261\n",
      "2   23.500000    1122  1397.969216 -275.969216\n",
      "3    5.900000     578  1072.348338 -494.348338\n",
      "4   13.800000    1368  1218.507712  149.492288\n",
      "5   20.000000    1145  1333.215063 -188.215063\n",
      "6   16.400000    1078  1266.610785 -188.610785\n",
      "7   16.299999    1094  1264.760660 -170.760660\n",
      "8   10.500000    1237  1157.453793   79.546207\n",
      "9   26.299999     833  1449.772523 -616.772523\n",
      "10  25.900000     567  1442.372056 -875.372056\n",
      "11  26.799999     933  1459.023116 -526.023116\n",
      "12  14.800000    1339  1237.008898  101.991102\n",
      "13  22.299999     937  1375.767778 -438.767778\n",
      "14  56.299999    2011  2004.808114    6.191886\n",
      "15  12.600000    1585  1196.306291  388.693709\n"
     ]
    }
   ],
   "source": [
    "df['salhat'] = results.predict()\n",
    "df['uhat'] = df['salary'] - df['salhat']\n",
    "print(df.loc[0:15,('roe', 'salary', 'salhat', 'uhat')])"
   ]
  },
  {
   "cell_type": "markdown",
   "metadata": {},
   "source": [
    "#### 案例4.4 校园犯罪与注册人数"
   ]
  },
  {
   "cell_type": "code",
   "execution_count": 11,
   "metadata": {},
   "outputs": [
    {
     "name": "stdout",
     "output_type": "stream",
     "text": [
      "                            OLS Regression Results                            \n",
      "==============================================================================\n",
      "Dep. Variable:                 lcrime   R-squared:                       0.585\n",
      "Model:                            OLS   Adj. R-squared:                  0.580\n",
      "Method:                 Least Squares   F-statistic:                     133.8\n",
      "Date:                Wed, 11 Mar 2020   Prob (F-statistic):           7.83e-20\n",
      "Time:                        14:55:10   Log-Likelihood:                -125.83\n",
      "No. Observations:                  97   AIC:                             255.7\n",
      "Df Residuals:                      95   BIC:                             260.8\n",
      "Df Model:                           1                                         \n",
      "Covariance Type:            nonrobust                                         \n",
      "==============================================================================\n",
      "                 coef    std err          t      P>|t|      [0.025      0.975]\n",
      "------------------------------------------------------------------------------\n",
      "Intercept     -6.6314      1.034     -6.416      0.000      -8.683      -4.580\n",
      "lenroll        1.2698      0.110     11.567      0.000       1.052       1.488\n",
      "==============================================================================\n",
      "Omnibus:                       51.350   Durbin-Watson:                   1.548\n",
      "Prob(Omnibus):                  0.000   Jarque-Bera (JB):              247.879\n",
      "Skew:                          -1.628   Prob(JB):                     1.49e-54\n",
      "Kurtosis:                      10.123   Cond. No.                         108.\n",
      "==============================================================================\n",
      "\n",
      "Warnings:\n",
      "[1] Standard Errors assume that the covariance matrix of the errors is correctly specified.\n"
     ]
    }
   ],
   "source": [
    "df = pd.read_stata(\"https://p193.p3.n0.cdn.getcloudapp.com/items/RBudOLem/campus.dta\")    # 载入数据\n",
    "results = smf.ols('lcrime ~ lenroll', data=df).fit()\n",
    "print(results.summary())"
   ]
  },
  {
   "cell_type": "markdown",
   "metadata": {},
   "source": [
    "使用[$t$检验](http://www.statsmodels.org/stable/generated/statsmodels.regression.linear_model.RegressionResults.t_test.html#statsmodels.regression.linear_model.RegressionResults.t_test)进行假设检验。"
   ]
  },
  {
   "cell_type": "code",
   "execution_count": 12,
   "metadata": {},
   "outputs": [
    {
     "name": "stdout",
     "output_type": "stream",
     "text": [
      "                             Test for Constraints                             \n",
      "==============================================================================\n",
      "                 coef    std err          t      P>|t|      [0.025      0.975]\n",
      "------------------------------------------------------------------------------\n",
      "c0             1.2698      0.110      2.457      0.016       1.052       1.488\n",
      "==============================================================================\n"
     ]
    }
   ],
   "source": [
    "hypotheses = 'lenroll = 1'\n",
    "t_test = results.t_test(hypotheses)\n",
    "print(t_test)"
   ]
  },
  {
   "cell_type": "markdown",
   "metadata": {},
   "source": [
    "如果想要手动进行检验，可以利用[`scipy.stats`](https://docs.scipy.org/doc/scipy/reference/stats.html#)下的[t统计分布](https://docs.scipy.org/doc/scipy/reference/generated/scipy.stats.t.html#scipy.stats.t)。"
   ]
  },
  {
   "cell_type": "code",
   "execution_count": 45,
   "metadata": {},
   "outputs": [
    {
     "name": "stdout",
     "output_type": "stream",
     "text": [
      "T-statistics: 2.45737, P value: 0.00771259\n"
     ]
    }
   ],
   "source": [
    "from scipy.stats import t\n",
    "\n",
    "# std err for lenroll coef\n",
    "se_lenroll = results.bse[1]\n",
    "# calculate t value\n",
    "t_lenroll = (results.params[1] - 1) / se_lenroll\n",
    "\n",
    "print(\"T-statistics: {:.6}, P value: {:.6}\".format(t_lenroll, 1 - t.cdf(t_lenroll, 120)))"
   ]
  },
  {
   "cell_type": "markdown",
   "metadata": {},
   "source": [
    "#### 案例4.9 孩子出生体重方程中父母的受教育程度"
   ]
  },
  {
   "cell_type": "code",
   "execution_count": 47,
   "metadata": {},
   "outputs": [
    {
     "name": "stdout",
     "output_type": "stream",
     "text": [
      "                            OLS Regression Results                            \n",
      "==============================================================================\n",
      "Dep. Variable:                  bwght   R-squared:                       0.039\n",
      "Model:                            OLS   Adj. R-squared:                  0.035\n",
      "Method:                 Least Squares   F-statistic:                     9.553\n",
      "Date:                Wed, 11 Mar 2020   Prob (F-statistic):           5.99e-09\n",
      "Time:                        16:46:30   Log-Likelihood:                -5242.2\n",
      "No. Observations:                1191   AIC:                         1.050e+04\n",
      "Df Residuals:                    1185   BIC:                         1.053e+04\n",
      "Df Model:                           5                                         \n",
      "Covariance Type:            nonrobust                                         \n",
      "==============================================================================\n",
      "                 coef    std err          t      P>|t|      [0.025      0.975]\n",
      "------------------------------------------------------------------------------\n",
      "Intercept    114.5243      3.728     30.716      0.000     107.209     121.839\n",
      "cigs          -0.5959      0.110     -5.401      0.000      -0.812      -0.379\n",
      "parity         1.7876      0.659      2.711      0.007       0.494       3.081\n",
      "faminc         0.0560      0.037      1.533      0.126      -0.016       0.128\n",
      "motheduc      -0.3705      0.320     -1.158      0.247      -0.998       0.257\n",
      "fatheduc       0.4724      0.283      1.671      0.095      -0.082       1.027\n",
      "==============================================================================\n",
      "Omnibus:                      120.762   Durbin-Watson:                   1.938\n",
      "Prob(Omnibus):                  0.000   Jarque-Bera (JB):              838.114\n",
      "Skew:                          -0.119   Prob(JB):                    1.01e-182\n",
      "Kurtosis:                       7.103   Cond. No.                         266.\n",
      "==============================================================================\n",
      "\n",
      "Warnings:\n",
      "[1] Standard Errors assume that the covariance matrix of the errors is correctly specified.\n"
     ]
    }
   ],
   "source": [
    "df = pd.read_stata(\"http://fmwww.bc.edu/ec-p/data/wooldridge/bwght.dta\")    # 载入数据\n",
    "results = smf.ols('bwght ~ cigs + parity + faminc + motheduc + fatheduc', data=df).fit()\n",
    "print(results.summary())"
   ]
  },
  {
   "cell_type": "markdown",
   "metadata": {},
   "source": [
    "F检验可以使用f_test函数。"
   ]
  },
  {
   "cell_type": "code",
   "execution_count": 55,
   "metadata": {},
   "outputs": [
    {
     "name": "stdout",
     "output_type": "stream",
     "text": [
      "F-statistics: 1.437, P value: 0.238\n"
     ]
    }
   ],
   "source": [
    "hypotheses = '(motheduc = 0), (fatheduc = 0)'\n",
    "f_test = results.f_test(hypotheses)\n",
    "\n",
    "print(\"F-statistics: {:.4}, P value: {:.4}\".format(f_test.fvalue[0][0], f_test.pvalue))"
   ]
  },
  {
   "cell_type": "markdown",
   "metadata": {},
   "source": [
    "#### 案例7.6 对数小时工资方程"
   ]
  },
  {
   "cell_type": "code",
   "execution_count": 57,
   "metadata": {},
   "outputs": [
    {
     "name": "stdout",
     "output_type": "stream",
     "text": [
      "                            OLS Regression Results                            \n",
      "==============================================================================\n",
      "Dep. Variable:                  lwage   R-squared:                       0.461\n",
      "Model:                            OLS   Adj. R-squared:                  0.453\n",
      "Method:                 Least Squares   F-statistic:                     55.25\n",
      "Date:                Wed, 11 Mar 2020   Prob (F-statistic):           1.28e-64\n",
      "Time:                        17:12:05   Log-Likelihood:                -250.96\n",
      "No. Observations:                 526   AIC:                             519.9\n",
      "Df Residuals:                     517   BIC:                             558.3\n",
      "Df Model:                           8                                         \n",
      "Covariance Type:            nonrobust                                         \n",
      "==================================================================================\n",
      "                     coef    std err          t      P>|t|      [0.025      0.975]\n",
      "----------------------------------------------------------------------------------\n",
      "Intercept          0.3214      0.100      3.213      0.001       0.125       0.518\n",
      "female            -0.1104      0.056     -1.980      0.048      -0.220      -0.001\n",
      "married            0.2127      0.055      3.842      0.000       0.104       0.321\n",
      "female:married    -0.3006      0.072     -4.188      0.000      -0.442      -0.160\n",
      "educ               0.0789      0.007     11.787      0.000       0.066       0.092\n",
      "exper              0.0268      0.005      5.112      0.000       0.017       0.037\n",
      "expersq           -0.0005      0.000     -4.847      0.000      -0.001      -0.000\n",
      "tenure             0.0291      0.007      4.302      0.000       0.016       0.042\n",
      "tenursq           -0.0005      0.000     -2.306      0.022      -0.001   -7.89e-05\n",
      "==============================================================================\n",
      "Omnibus:                       15.526   Durbin-Watson:                   1.785\n",
      "Prob(Omnibus):                  0.000   Jarque-Bera (JB):               32.182\n",
      "Skew:                          -0.062   Prob(JB):                     1.03e-07\n",
      "Kurtosis:                       4.205   Cond. No.                     5.06e+03\n",
      "==============================================================================\n",
      "\n",
      "Warnings:\n",
      "[1] Standard Errors assume that the covariance matrix of the errors is correctly specified.\n",
      "[2] The condition number is large, 5.06e+03. This might indicate that there are\n",
      "strong multicollinearity or other numerical problems.\n"
     ]
    }
   ],
   "source": [
    "df = pd.read_stata(\"http://fmwww.bc.edu/ec-p/data/wooldridge/wage1.dta\")    # 载入数据\n",
    "results = smf.ols('lwage ~ female * married + educ + exper + expersq + tenure + tenursq', data=df).fit()\n",
    "print(results.summary())"
   ]
  },
  {
   "cell_type": "code",
   "execution_count": 60,
   "metadata": {},
   "outputs": [
    {
     "name": "stdout",
     "output_type": "stream",
     "text": [
      "                            OLS Regression Results                            \n",
      "==============================================================================\n",
      "Dep. Variable:                  lwage   R-squared:                       0.461\n",
      "Model:                            OLS   Adj. R-squared:                  0.453\n",
      "Method:                 Least Squares   F-statistic:                     55.25\n",
      "Date:                Wed, 11 Mar 2020   Prob (F-statistic):           1.28e-64\n",
      "Time:                        17:15:38   Log-Likelihood:                -250.96\n",
      "No. Observations:                 526   AIC:                             519.9\n",
      "Df Residuals:                     517   BIC:                             558.3\n",
      "Df Model:                           8                                         \n",
      "Covariance Type:            nonrobust                                         \n",
      "==================================================================================\n",
      "                     coef    std err          t      P>|t|      [0.025      0.975]\n",
      "----------------------------------------------------------------------------------\n",
      "Intercept          0.3214      0.100      3.213      0.001       0.125       0.518\n",
      "married:male       0.2127      0.055      3.842      0.000       0.104       0.321\n",
      "female:married    -0.1983      0.058     -3.428      0.001      -0.312      -0.085\n",
      "single:female     -0.1104      0.056     -1.980      0.048      -0.220      -0.001\n",
      "educ               0.0789      0.007     11.787      0.000       0.066       0.092\n",
      "exper              0.0268      0.005      5.112      0.000       0.017       0.037\n",
      "expersq           -0.0005      0.000     -4.847      0.000      -0.001      -0.000\n",
      "tenure             0.0291      0.007      4.302      0.000       0.016       0.042\n",
      "tenursq           -0.0005      0.000     -2.306      0.022      -0.001   -7.89e-05\n",
      "==============================================================================\n",
      "Omnibus:                       15.526   Durbin-Watson:                   1.785\n",
      "Prob(Omnibus):                  0.000   Jarque-Bera (JB):               32.182\n",
      "Skew:                          -0.062   Prob(JB):                     1.03e-07\n",
      "Kurtosis:                       4.205   Cond. No.                     4.86e+03\n",
      "==============================================================================\n",
      "\n",
      "Warnings:\n",
      "[1] Standard Errors assume that the covariance matrix of the errors is correctly specified.\n",
      "[2] The condition number is large, 4.86e+03. This might indicate that there are\n",
      "strong multicollinearity or other numerical problems.\n"
     ]
    }
   ],
   "source": [
    "df['male'] = 1 - df['female']\n",
    "df['single'] = 1 - df['married']\n",
    "results = smf.ols('lwage ~ married:male + female:married + single:female + educ + exper + expersq + tenure + tenursq', data=df).fit()\n",
    "print(results.summary())"
   ]
  }
 ],
 "metadata": {
  "kernelspec": {
   "display_name": "Python 3",
   "language": "python",
   "name": "python3"
  },
  "language_info": {
   "codemirror_mode": {
    "name": "ipython",
    "version": 3
   },
   "file_extension": ".py",
   "mimetype": "text/x-python",
   "name": "python",
   "nbconvert_exporter": "python",
   "pygments_lexer": "ipython3",
   "version": "3.6.13"
  },
  "widgets": {
   "application/vnd.jupyter.widget-state+json": {
    "state": {},
    "version_major": 2,
    "version_minor": 0
   }
  }
 },
 "nbformat": 4,
 "nbformat_minor": 4
}
